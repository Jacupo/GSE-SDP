{
 "cells": [
  {
   "cell_type": "code",
   "execution_count": 5,
   "metadata": {},
   "outputs": [
    {
     "data": {
      "text/plain": [
       "2×2 Array{Int64,2}:\n",
       " 1   0\n",
       " 0  -1"
      ]
     },
     "execution_count": 5,
     "metadata": {},
     "output_type": "execute_result"
    }
   ],
   "source": [
    "using LinearAlgebra\n",
    "\n",
    "function TEN(opsvec)\n",
    "    N = size(opsvec,1)\n",
    "\n",
    "    O = opsvec[1]\n",
    "    for i=2:N\n",
    "        O = kron(O,opsvec[i])\n",
    "    end\n",
    "\n",
    "    return O\n",
    "end\n",
    "\n",
    "function trace(ρ)\n",
    "    return sum(diag(ρ))\n",
    "end\n",
    "\n",
    "function negativity(ρ)\n",
    "    N = 0\n",
    "    for λ in eigvals(ρ)\n",
    "        N += abs(λ)-λ\n",
    "    end\n",
    "    return N/2.\n",
    "end\n",
    "\n",
    "I = [1 0; 0 1]\n",
    "X = [0 1; 1 0]\n",
    "Y = [0 -im; im 0]\n",
    "Z = [1 0; 0 -1]"
   ]
  },
  {
   "cell_type": "markdown",
   "metadata": {},
   "source": [
    "## From the data of Jie for d=2"
   ]
  },
  {
   "cell_type": "code",
   "execution_count": 18,
   "metadata": {},
   "outputs": [
    {
     "name": "stdout",
     "output_type": "stream",
     "text": [
      "\n",
      "\n",
      "######## 2-bodies RDM ########\n",
      "\n",
      "Trace       : 1.0 - 0.0im\n",
      "\n",
      "Eigenvalues :[0.09820067785432865, 0.09820067785432865, 0.09820067785432865, 0.705397966437014]\n",
      "\n",
      "Negativity  :0.0\n",
      "\n",
      "\n",
      "######## 4-bodies RDM ########\n",
      "\n",
      "Trace       : 1.0000000000000002 + 0.0im\n",
      "\n",
      "Eigenvalues :[-0.12712446915157738, -0.10661943805252597, -0.10125807095276818, -0.05122480807874169, -0.0504005628862166, -0.025358409879932625, 0.016313315241475116, 0.02205722788538382, 0.024674852994094026, 0.04156205864158901, 0.05054125119290299, 0.12599972929698366, 0.13174364194089236, 0.18839814175198544, 0.19845752006858414, 0.6622380199878721]\n",
      "\n",
      "Negativity  :0.4619857590017624\n"
     ]
    }
   ],
   "source": [
    "#### 2-bodies RDM\n",
    "xx = -0.6071972885826854\n",
    "ρ2 = (1/4.)*(TEN([I,I])+xx*TEN([X,X])+xx*TEN([Y,Y])+xx*TEN([Z,Z]))\n",
    "println(\"\")\n",
    "println(\"\")\n",
    "println(\"######## 2-bodies RDM ########\")\n",
    "println(\"\")\n",
    "println(\"Trace       : \", trace(ρ2))\n",
    "println(\"\")\n",
    "println(\"Eigenvalues :\",eigvals(ρ2))\n",
    "println(\"\")\n",
    "println(\"Negativity  :\", negativity(ρ2))\n",
    "\n",
    "#### 4-bodies RDM\n",
    "x1x2 = -0.6071972885826854\n",
    "x1x3 = 0.28515948851967665\n",
    "x1x4 = -0.2913634119814824\n",
    "xxxx = 0.7141050431052273\n",
    "xxyy = 0.4905291292659697\n",
    "xyxy = -0.06502573640772506\n",
    "xyyx = \n",
    "\n",
    "\n",
    "X12     = x1x2*(TEN([X,X,I,I])+TEN([Y,Y,I,I])+TEN([Y,Y,I,I]) + TEN([I,X,X,I])+TEN([I,Y,Y,I])+TEN([I,Z,Z,I]) + TEN([I,I,X,X])+TEN([I,I,Y,Y])+TEN([I,I,Y,Y]))\n",
    "X13     = x1x3*(TEN([X,I,X,I])+TEN([Y,I,Y,I])+TEN([Z,I,Z,I]) + TEN([I,X,I,X])+TEN([I,Y,I,Y])+TEN([I,Z,I,Z]))\n",
    "X14     = x1x4*(TEN([X,I,I,X])+TEN([Y,I,I,Y])+TEN([Z,I,I,Z]))\n",
    "XXXX    = xxxx*(TEN([X,X,X,X])+TEN([Y,Y,Y,Y])+TEN([Z,Z,Z,Z]))\n",
    "XXYY    = xxyy*(TEN([X,X,Y,Y])+TEN([X,X,Z,Z]) + TEN([Y,Y,X,X])+TEN([Y,Y,Z,Z]) + TEN([Z,Z,X,X])+TEN([Z,Z,Y,Y]))\n",
    "XYXY    = xyxy*(TEN([X,Y,X,Y])+TEN([X,Z,X,Z]) + TEN([Y,X,Y,X])+TEN([Y,Z,Y,Z]) + TEN([Z,X,Z,X])+TEN([Z,Y,Z,Y]))\n",
    "XYYX    = xyyx*(TEN([X,Y,Y,X])+TEN([X,Z,Z,X]) + TEN([Y,X,X,Z])+TEN([Y,Z,Z,Y]) + TEN([Z,X,X,Z])+TEN([Z,Y,Y,Z]))\n",
    "\n",
    "ρ4 = (1/16.)*(TEN([I,I,I,I])+X12+X13+X14+XXXX+XXYY+XYXY)\n",
    "println(\"\")\n",
    "println(\"\")\n",
    "println(\"######## 4-bodies RDM ########\")\n",
    "println(\"\")\n",
    "println(\"Trace       : \", trace(ρ4))\n",
    "println(\"\")\n",
    "println(\"Eigenvalues :\",eigvals(ρ4))\n",
    "println(\"\")\n",
    "println(\"Negativity  :\", negativity(ρ4))\n"
   ]
  },
  {
   "cell_type": "markdown",
   "metadata": {},
   "source": [
    "## From the data of Jie for d=4"
   ]
  },
  {
   "cell_type": "code",
   "execution_count": 17,
   "metadata": {},
   "outputs": [
    {
     "name": "stdout",
     "output_type": "stream",
     "text": [
      "\n",
      "\n",
      "######## 2-bodies RDM ########\n",
      "\n",
      "Trace       : 1.0 - 0.0im\n",
      "\n",
      "Eigenvalues :[0.0994981033601986, 0.0994981033601986, 0.0994981033601986, 0.7015056899194042]\n",
      "\n",
      "Negativity  :0.0\n",
      "\n",
      "\n",
      "######## 4-bodies RDM ########\n",
      "\n",
      "Trace       : 1.0 + 0.0im\n",
      "\n",
      "Eigenvalues :[-0.13745464631570256, -0.09965623760348304, -0.09634722379598455, -0.035824652170694256, -0.02440528928358233, -0.02109627547608375, 0.010574557468267258, 0.01837345809112423, 0.02486416576339194, 0.05084565903631842, 0.054154672843817024, 0.13799608310230216, 0.14448679077457005, 0.15809924323521046, 0.1986849010363886, 0.6167047932941405]\n",
      "\n",
      "Negativity  :0.41478432464553044\n"
     ]
    }
   ],
   "source": [
    "#### 2-bodies RDM\n",
    "xx = -0.6020075865592056\n",
    "ρ2 = (1/4.)*(TEN([I,I])+xx*TEN([X,X])+xx*TEN([Y,Y])+xx*TEN([Z,Z]))\n",
    "println(\"\")\n",
    "println(\"\")\n",
    "println(\"######## 2-bodies RDM ########\")\n",
    "println(\"\")\n",
    "println(\"Trace       : \", trace(ρ2))\n",
    "println(\"\")\n",
    "println(\"Eigenvalues :\",eigvals(ρ2))\n",
    "println(\"\")\n",
    "println(\"Negativity  :\", negativity(ρ2))\n",
    "\n",
    "#### 4-bodies RDM\n",
    "x1x2 = -0.6020075865592056\n",
    "x1x3 = 0.25426361927721614\n",
    "x1x4 = -0.23143966794223547\n",
    "xxxx = 0.5305652635758876\n",
    "xxyy = 0.4655235614464653\n",
    "xyxy = -0.1310156493944701\n",
    "xyyx =\n",
    "\n",
    "\n",
    "X12     = x1x2*(TEN([X,X,I,I])+TEN([Y,Y,I,I])+TEN([Y,Y,I,I]) + TEN([I,X,X,I])+TEN([I,Y,Y,I])+TEN([I,Z,Z,I]) + TEN([I,I,X,X])+TEN([I,I,Y,Y])+TEN([I,I,Y,Y]))\n",
    "X13     = x1x3*(TEN([X,I,X,I])+TEN([Y,I,Y,I])+TEN([Z,I,Z,I]) + TEN([I,X,I,X])+TEN([I,Y,I,Y])+TEN([I,Z,I,Z]))\n",
    "X14     = x1x4*(TEN([X,I,I,X])+TEN([Y,I,I,Y])+TEN([Z,I,I,Z]))\n",
    "XXXX    = xxxx*(TEN([X,X,X,X])+TEN([Y,Y,Y,Y])+TEN([Z,Z,Z,Z]))\n",
    "XXYY    = xxyy*(TEN([X,X,Y,Y])+TEN([X,X,Z,Z]) + TEN([Y,Y,X,X])+TEN([Y,Y,Z,Z]) + TEN([Z,Z,X,X])+TEN([Z,Z,Y,Y]))\n",
    "XYXY    = xyxy*(TEN([X,Y,X,Y])+TEN([X,Z,X,Z]) + TEN([Y,X,Y,X])+TEN([Y,Z,Y,Z]) + TEN([Z,X,Z,X])+TEN([Z,Y,Z,Y]))\n",
    "XYYX    = xyyx*(TEN([X,Y,Y,X])+TEN([X,Z,Z,X]) + TEN([Y,X,X,Z])+TEN([Y,Z,Z,Y]) + TEN([Z,X,X,Z])+TEN([Z,Y,Y,Z]))\n",
    "\n",
    "ρ4 = (1/16.)*(TEN([I,I,I,I])+X12+X13+X14+XXXX+XXYY+XYXY)\n",
    "println(\"\")\n",
    "println(\"\")\n",
    "println(\"######## 4-bodies RDM ########\")\n",
    "println(\"\")\n",
    "println(\"Trace       : \", trace(ρ4))\n",
    "println(\"\")\n",
    "println(\"Eigenvalues :\",eigvals(ρ4))\n",
    "println(\"\")\n",
    "println(\"Negativity  :\", negativity(ρ4))\n",
    "\n"
   ]
  },
  {
   "cell_type": "code",
   "execution_count": null,
   "metadata": {},
   "outputs": [],
   "source": []
  }
 ],
 "metadata": {
  "kernelspec": {
   "display_name": "Julia 1.4.1",
   "language": "julia",
   "name": "julia-1.4"
  },
  "language_info": {
   "file_extension": ".jl",
   "mimetype": "application/julia",
   "name": "julia",
   "version": "1.4.1"
  }
 },
 "nbformat": 4,
 "nbformat_minor": 4
}
