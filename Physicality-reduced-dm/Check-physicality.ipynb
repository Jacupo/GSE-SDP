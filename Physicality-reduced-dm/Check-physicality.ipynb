{
 "cells": [
  {
   "cell_type": "code",
   "execution_count": 1,
   "metadata": {},
   "outputs": [
    {
     "data": {
      "text/plain": [
       "2×2 Array{Int64,2}:\n",
       " 1   0\n",
       " 0  -1"
      ]
     },
     "execution_count": 1,
     "metadata": {},
     "output_type": "execute_result"
    }
   ],
   "source": [
    "using LinearAlgebra\n",
    "\n",
    "function TEN(opsvec)\n",
    "    N = size(opsvec,1)\n",
    "\n",
    "    O = opsvec[1]\n",
    "    for i=2:N\n",
    "        O = kron(O,opsvec[i])\n",
    "    end\n",
    "\n",
    "    return O\n",
    "end\n",
    "\n",
    "function trace(ρ)\n",
    "    return sum(diag(ρ))\n",
    "end\n",
    "\n",
    "function negativity(ρ)\n",
    "    N = 0\n",
    "    for λ in eigvals(ρ)\n",
    "        N += abs(λ)-λ\n",
    "    end\n",
    "    return N/2.\n",
    "end\n",
    "\n",
    "I = [1 0; 0 1]\n",
    "X = [0 1; 1 0]\n",
    "Y = [0 -im; im 0]\n",
    "Z = [1 0; 0 -1]"
   ]
  },
  {
   "cell_type": "markdown",
   "metadata": {},
   "source": [
    "## From the data of Jie for d=2"
   ]
  },
  {
   "cell_type": "code",
   "execution_count": 7,
   "metadata": {},
   "outputs": [
    {
     "name": "stdout",
     "output_type": "stream",
     "text": [
      "\n",
      "\n",
      "######## 2-bodies RDM ########\n",
      "\n",
      "Trace       : 1.0 - 0.0im\n",
      "\n",
      "Eigenvalues :[0.09820067785432865, 0.09820067785432865, 0.09820067785432865, 0.705397966437014]\n",
      "\n",
      "Negativity  :0.0\n",
      "\n",
      "\n",
      "######## 4-bodies RDM ########\n",
      "\n",
      "Trace       : 1.0000000000000002 + 0.0im\n",
      "\n",
      "Eigenvalues :[-0.12264797444514573, -0.09102922752887602, -0.08649580450891789, -0.06516282933006715, -0.019781926381226368, -0.015129566456040263, -0.014038013737317735, 0.010736831742768767, 0.026949935902127978, 0.06077009461679561, 0.08663649281560447, 0.08990448767428239, 0.09564840031819094, 0.16236227844588288, 0.16921625948709534, 0.7120605613848426]\n",
      "\n",
      "Negativity  :0.4142853423875911\n"
     ]
    }
   ],
   "source": [
    "#### 2-bodies RDM\n",
    "xx = -0.6071972885826854\n",
    "ρ2 = (1/4.)*(TEN([I,I])+xx*TEN([X,X])+xx*TEN([Y,Y])+xx*TEN([Z,Z]))\n",
    "println(\"\")\n",
    "println(\"\")\n",
    "println(\"######## 2-bodies RDM ########\")\n",
    "println(\"\")\n",
    "println(\"Trace       : \", trace(ρ2))\n",
    "println(\"\")\n",
    "println(\"Eigenvalues :\",eigvals(ρ2))\n",
    "println(\"\")\n",
    "println(\"Negativity  :\", negativity(ρ2))\n",
    "\n",
    "#### 4-bodies RDM\n",
    "x1x2 = -0.6071972885826854\n",
    "x1x3 = 0.28515948851967665\n",
    "x1x4 = -0.2913634119814824\n",
    "xxxx = 0.7141050431052273\n",
    "xxyy = 0.4905291292659697\n",
    "xyxy = -0.06502573640772506\n",
    "xyyx = 0.2887619329816117\n",
    "\n",
    "\n",
    "X12     = x1x2*(TEN([X,X,I,I])+TEN([Y,Y,I,I])+TEN([Y,Y,I,I]) + TEN([I,X,X,I])+TEN([I,Y,Y,I])+TEN([I,Z,Z,I]) + TEN([I,I,X,X])+TEN([I,I,Y,Y])+TEN([I,I,Y,Y]))\n",
    "X13     = x1x3*(TEN([X,I,X,I])+TEN([Y,I,Y,I])+TEN([Z,I,Z,I]) + TEN([I,X,I,X])+TEN([I,Y,I,Y])+TEN([I,Z,I,Z]))\n",
    "X14     = x1x4*(TEN([X,I,I,X])+TEN([Y,I,I,Y])+TEN([Z,I,I,Z]))\n",
    "XXXX    = xxxx*(TEN([X,X,X,X])+TEN([Y,Y,Y,Y])+TEN([Z,Z,Z,Z]))\n",
    "XXYY    = xxyy*(TEN([X,X,Y,Y])+TEN([X,X,Z,Z]) + TEN([Y,Y,X,X])+TEN([Y,Y,Z,Z]) + TEN([Z,Z,X,X])+TEN([Z,Z,Y,Y]))\n",
    "XYXY    = xyxy*(TEN([X,Y,X,Y])+TEN([X,Z,X,Z]) + TEN([Y,X,Y,X])+TEN([Y,Z,Y,Z]) + TEN([Z,X,Z,X])+TEN([Z,Y,Z,Y]))\n",
    "XYYX    = xyyx*(TEN([X,Y,Y,X])+TEN([X,Z,Z,X]) + TEN([Y,X,X,Y])+TEN([Y,Z,Z,Y]) + TEN([Z,X,X,Z])+TEN([Z,Y,Y,Z]))\n",
    "\n",
    "ρ4 = (1/16.)*(TEN([I,I,I,I])+X12+X13+X14+XXXX+XXYY+XYXY+XYYX)\n",
    "println(\"\")\n",
    "println(\"\")\n",
    "println(\"######## 4-bodies RDM ########\")\n",
    "println(\"\")\n",
    "println(\"Trace       : \", trace(ρ4))\n",
    "println(\"\")\n",
    "println(\"Eigenvalues :\",eigvals(ρ4))\n",
    "println(\"\")\n",
    "println(\"Negativity  :\", negativity(ρ4))\n"
   ]
  },
  {
   "cell_type": "markdown",
   "metadata": {},
   "source": [
    "## From the data of Jie for d=4"
   ]
  },
  {
   "cell_type": "code",
   "execution_count": 8,
   "metadata": {},
   "outputs": [
    {
     "name": "stdout",
     "output_type": "stream",
     "text": [
      "\n",
      "\n",
      "######## 2-bodies RDM ########\n",
      "\n",
      "Trace       : 1.0 - 0.0im\n",
      "\n",
      "Eigenvalues :[0.0994981033601986, 0.0994981033601986, 0.0994981033601986, 0.7015056899194042]\n",
      "\n",
      "Negativity  :0.0\n",
      "\n",
      "\n",
      "######## 4-bodies RDM ########\n",
      "\n",
      "Trace       : 1.0 + 0.0im\n",
      "\n",
      "Eigenvalues :[-0.14438452786238765, -0.07514906881409385, -0.07184005500659527, -0.060331820960083486, -0.006133710698265039, 0.00010187950580686818, 0.00035699697400268476, 0.0008194581618210759, 0.003410893313305438, 0.07535282782570757, 0.07866184163320623, 0.11348891431291307, 0.11997962198518063, 0.1426673042592625, 0.17417773224699923, 0.6488217131232196]\n",
      "\n",
      "Negativity  :0.3578391833414252\n"
     ]
    }
   ],
   "source": [
    "#### 2-bodies RDM\n",
    "xx = -0.6020075865592056\n",
    "ρ2 = (1/4.)*(TEN([I,I])+xx*TEN([X,X])+xx*TEN([Y,Y])+xx*TEN([Z,Z]))\n",
    "println(\"\")\n",
    "println(\"\")\n",
    "println(\"######## 2-bodies RDM ########\")\n",
    "println(\"\")\n",
    "println(\"Trace       : \", trace(ρ2))\n",
    "println(\"\")\n",
    "println(\"Eigenvalues :\",eigvals(ρ2))\n",
    "println(\"\")\n",
    "println(\"Negativity  :\", negativity(ρ2))\n",
    "\n",
    "#### 4-bodies RDM\n",
    "x1x2 = -0.6020075865592056\n",
    "x1x3 = 0.25426361927721614\n",
    "x1x4 = -0.23143966794223547\n",
    "xxxx = 0.5305652635758876\n",
    "xxyy = 0.4655235614464653\n",
    "xyxy = -0.1310156493944701\n",
    "xyyx = 0.1960573503151137\n",
    "\n",
    "\n",
    "X12     = x1x2*(TEN([X,X,I,I])+TEN([Y,Y,I,I])+TEN([Y,Y,I,I]) + TEN([I,X,X,I])+TEN([I,Y,Y,I])+TEN([I,Z,Z,I]) + TEN([I,I,X,X])+TEN([I,I,Y,Y])+TEN([I,I,Y,Y]))\n",
    "X13     = x1x3*(TEN([X,I,X,I])+TEN([Y,I,Y,I])+TEN([Z,I,Z,I]) + TEN([I,X,I,X])+TEN([I,Y,I,Y])+TEN([I,Z,I,Z]))\n",
    "X14     = x1x4*(TEN([X,I,I,X])+TEN([Y,I,I,Y])+TEN([Z,I,I,Z]))\n",
    "XXXX    = xxxx*(TEN([X,X,X,X])+TEN([Y,Y,Y,Y])+TEN([Z,Z,Z,Z]))\n",
    "XXYY    = xxyy*(TEN([X,X,Y,Y])+TEN([X,X,Z,Z]) + TEN([Y,Y,X,X])+TEN([Y,Y,Z,Z]) + TEN([Z,Z,X,X])+TEN([Z,Z,Y,Y]))\n",
    "XYXY    = xyxy*(TEN([X,Y,X,Y])+TEN([X,Z,X,Z]) + TEN([Y,X,Y,X])+TEN([Y,Z,Y,Z]) + TEN([Z,X,Z,X])+TEN([Z,Y,Z,Y]))\n",
    "XYYX    = xyyx*(TEN([X,Y,Y,X])+TEN([X,Z,Z,X]) + TEN([Y,X,X,Y])+TEN([Y,Z,Z,Y]) + TEN([Z,X,X,Z])+TEN([Z,Y,Y,Z]))\n",
    "\n",
    "ρ4 = (1/16.)*(TEN([I,I,I,I])+X12+X13+X14+XXXX+XXYY+XYXY+XYYX)\n",
    "println(\"\")\n",
    "println(\"\")\n",
    "println(\"######## 4-bodies RDM ########\")\n",
    "println(\"\")\n",
    "println(\"Trace       : \", trace(ρ4))\n",
    "println(\"\")\n",
    "println(\"Eigenvalues :\",eigvals(ρ4))\n",
    "println(\"\")\n",
    "println(\"Negativity  :\", negativity(ρ4))\n",
    "\n"
   ]
  },
  {
   "cell_type": "code",
   "execution_count": 6,
   "metadata": {},
   "outputs": [
    {
     "data": {
      "text/plain": [
       "16×16 Array{Complex{Float64},2}:\n",
       "       0.0+0.0im             0.0+0.0im       …  -0.196057+0.0im\n",
       "       0.0+0.0im             0.0+0.0im                0.0+0.196057im\n",
       "       0.0+0.0im             0.0+0.0im                0.0+0.0im\n",
       "       0.0+0.0im             0.0+0.0im                0.0+0.0im\n",
       "       0.0+0.0im             0.0+0.0im                0.0+0.0im\n",
       "       0.0+0.0im             0.0+0.0im       …        0.0+0.0im\n",
       "       0.0+0.0im             0.0+0.0im                0.0+0.0im\n",
       "       0.0+0.0im             0.0+0.0im                0.0+0.0im\n",
       "       0.0+0.0im        0.392115+0.0im                0.0+0.0im\n",
       "       0.0+0.0im             0.0+0.0im                0.0+0.0im\n",
       "       0.0+0.0im             0.0+0.0im       …        0.0+0.0im\n",
       "       0.0+0.0im             0.0+0.0im                0.0+0.0im\n",
       "       0.0+0.0im             0.0+0.0im                0.0+0.0im\n",
       "       0.0+0.0im             0.0+0.0im                0.0+0.0im\n",
       "       0.0+0.196057im  -0.196057+0.0im                0.0+0.0im\n",
       " -0.196057+0.0im             0.0-0.196057im  …        0.0+0.0im"
      ]
     },
     "execution_count": 6,
     "metadata": {},
     "output_type": "execute_result"
    }
   ],
   "source": [
    "X12     = (TEN([X,X,I,I])+TEN([Y,Y,I,I])+TEN([Y,Y,I,I]) + TEN([I,X,X,I])+TEN([I,Y,Y,I])+TEN([I,Z,Z,I]) + TEN([I,I,X,X])+TEN([I,I,Y,Y])+TEN([I,I,Y,Y]))\n",
    "X13     = (TEN([X,I,X,I])+TEN([Y,I,Y,I])+TEN([Z,I,Z,I]) + TEN([I,X,I,X])+TEN([I,Y,I,Y])+TEN([I,Z,I,Z]))\n",
    "X14     = (TEN([X,I,I,X])+TEN([Y,I,I,Y])+TEN([Z,I,I,Z]))\n",
    "XXXX    = (TEN([X,X,X,X])+TEN([Y,Y,Y,Y])+TEN([Z,Z,Z,Z]))\n",
    "XXYY    = (TEN([X,X,Y,Y])+TEN([X,X,Z,Z]) + TEN([Y,Y,X,X])+TEN([Y,Y,Z,Z]) + TEN([Z,Z,X,X])+TEN([Z,Z,Y,Y]))\n",
    "XYXY    = (TEN([X,Y,X,Y])+TEN([X,Z,X,Z]) + TEN([Y,X,Y,X])+TEN([Y,Z,Y,Z]) + TEN([Z,X,Z,X])+TEN([Z,Y,Z,Y]))\n",
    "XYYX    = (TEN([X,Y,Y,X])+TEN([X,Z,Z,X]) + TEN([Y,X,X,Z])+TEN([Y,Z,Z,Y]) + TEN([Z,X,X,Z])+TEN([Z,Y,Y,Z]))"
   ]
  },
  {
   "cell_type": "code",
   "execution_count": null,
   "metadata": {},
   "outputs": [],
   "source": []
  }
 ],
 "metadata": {
  "kernelspec": {
   "display_name": "Julia 1.4.1",
   "language": "julia",
   "name": "julia-1.4"
  },
  "language_info": {
   "file_extension": ".jl",
   "mimetype": "application/julia",
   "name": "julia",
   "version": "1.4.1"
  }
 },
 "nbformat": 4,
 "nbformat_minor": 4
}
