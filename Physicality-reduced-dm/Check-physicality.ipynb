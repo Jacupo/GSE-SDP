{
 "cells": [
  {
   "cell_type": "code",
   "execution_count": 1,
   "metadata": {},
   "outputs": [
    {
     "data": {
      "text/plain": [
       "2×2 Array{Int64,2}:\n",
       " 1   0\n",
       " 0  -1"
      ]
     },
     "execution_count": 1,
     "metadata": {},
     "output_type": "execute_result"
    }
   ],
   "source": [
    "using LinearAlgebra\n",
    "\n",
    "function TEN(opsvec)\n",
    "    N = size(opsvec,1)\n",
    "\n",
    "    O = opsvec[1]\n",
    "    for i=2:N\n",
    "        O = kron(O,opsvec[i])\n",
    "    end\n",
    "\n",
    "    return O\n",
    "end\n",
    "\n",
    "function trace(ρ)\n",
    "    return sum(diag(ρ))\n",
    "end\n",
    "\n",
    "function negativity(ρ)\n",
    "    N = 0\n",
    "    for λ in eigvals(ρ)\n",
    "        N += abs(λ)-λ\n",
    "    end\n",
    "    return N/2.\n",
    "end\n",
    "\n",
    "I = [1 0; 0 1]\n",
    "X = [0 1; 1 0]\n",
    "Y = [0 -im; im 0]\n",
    "Z = [1 0; 0 -1]"
   ]
  },
  {
   "cell_type": "markdown",
   "metadata": {},
   "source": [
    "## From the data of Jie for d=2"
   ]
  },
  {
   "cell_type": "code",
   "execution_count": 4,
   "metadata": {},
   "outputs": [
    {
     "name": "stdout",
     "output_type": "stream",
     "text": [
      "\n",
      "\n",
      "######## 2-bodies RDM ########\n",
      "\n",
      "Trace       : 1.0 - 0.0im\n",
      "\n",
      "Eigenvalues :[0.09820067785432865, 0.09820067785432865, 0.09820067785432865, 0.705397966437014]\n",
      "\n",
      "Negativity  :0.0\n",
      "\n",
      "\n",
      "######## 4-bodies RDM ########\n",
      "\n",
      "Trace       : 1.0000000000000002 + 0.0im\n",
      "\n",
      "Eigenvalues :[-0.019781926381226392, -0.01978192638122638, -0.019781926381226365, -0.015129566456040227, -0.015129566456040211, -0.01512956645604015, 0.010696761059111493, 0.0106967610591115, 0.010736831742768715, 0.010736831742768758, 0.010736831742768776, 0.055650641023521435, 0.09564840031819094, 0.09564840031819097, 0.09564840031819104, 0.7085346191871762]\n",
      "\n",
      "Negativity  :0.10473447851179973\n"
     ]
    }
   ],
   "source": [
    "#### 2-bodies RDM\n",
    "xx = -0.6071972885826854\n",
    "ρ2 = (1/4.)*(TEN([I,I])+xx*TEN([X,X])+xx*TEN([Y,Y])+xx*TEN([Z,Z]))\n",
    "println(\"\")\n",
    "println(\"\")\n",
    "println(\"######## 2-bodies RDM ########\")\n",
    "println(\"\")\n",
    "println(\"Trace       : \", trace(ρ2))\n",
    "println(\"\")\n",
    "println(\"Eigenvalues :\",eigvals(ρ2))\n",
    "println(\"\")\n",
    "println(\"Negativity  :\", negativity(ρ2))\n",
    "\n",
    "#### 4-bodies RDM\n",
    "x1x2 = -0.6071972885826854\n",
    "x1x3 = 0.28515948851967665\n",
    "x1x4 = -0.2913634119814824\n",
    "xxxx = 0.7141050431052273\n",
    "xxyy = 0.4905291292659697\n",
    "xyxy = -0.06502573640772506\n",
    "xyyx = 0.2887619329816117\n",
    "\n",
    "\n",
    "X12     = x1x2*(TEN([X,X,I,I])+TEN([Y,Y,I,I])+TEN([Z,Z,I,I]) + TEN([I,X,X,I])+TEN([I,Y,Y,I])+TEN([I,Z,Z,I]) + TEN([I,I,X,X])+TEN([I,I,Y,Y])+TEN([I,I,Z,Z]))\n",
    "X13     = x1x3*(TEN([X,I,X,I])+TEN([Y,I,Y,I])+TEN([Z,I,Z,I]) + TEN([I,X,I,X])+TEN([I,Y,I,Y])+TEN([I,Z,I,Z]))\n",
    "X14     = x1x4*(TEN([X,I,I,X])+TEN([Y,I,I,Y])+TEN([Z,I,I,Z]))\n",
    "XXXX    = xxxx*(TEN([X,X,X,X])+TEN([Y,Y,Y,Y])+TEN([Z,Z,Z,Z]))\n",
    "XXYY    = xxyy*(TEN([X,X,Y,Y])+TEN([X,X,Z,Z]) + TEN([Y,Y,X,X])+TEN([Y,Y,Z,Z]) + TEN([Z,Z,X,X])+TEN([Z,Z,Y,Y]))\n",
    "XYXY    = xyxy*(TEN([X,Y,X,Y])+TEN([X,Z,X,Z]) + TEN([Y,X,Y,X])+TEN([Y,Z,Y,Z]) + TEN([Z,X,Z,X])+TEN([Z,Y,Z,Y]))\n",
    "XYYX    = xyyx*(TEN([X,Y,Y,X])+TEN([X,Z,Z,X]) + TEN([Y,X,X,Y])+TEN([Y,Z,Z,Y]) + TEN([Z,X,X,Z])+TEN([Z,Y,Y,Z]))\n",
    "\n",
    "ρ4 = (1/16.)*(TEN([I,I,I,I])+X12+X13+X14+XXXX+XXYY+XYXY+XYYX)\n",
    "println(\"\")\n",
    "println(\"\")\n",
    "println(\"######## 4-bodies RDM ########\")\n",
    "println(\"\")\n",
    "println(\"Trace       : \", trace(ρ4))\n",
    "println(\"\")\n",
    "println(\"Eigenvalues :\",eigvals(ρ4))\n",
    "println(\"\")\n",
    "println(\"Negativity  :\", negativity(ρ4))\n"
   ]
  },
  {
   "cell_type": "markdown",
   "metadata": {},
   "source": [
    "## From the data of Jie for d=4"
   ]
  },
  {
   "cell_type": "code",
   "execution_count": 7,
   "metadata": {},
   "outputs": [
    {
     "name": "stdout",
     "output_type": "stream",
     "text": [
      "\n",
      "\n",
      "######## 2-bodies RDM ########\n",
      "\n",
      "Trace       : 1.0 - 0.0im\n",
      "\n",
      "Eigenvalues :[0.0994981033601986, 0.0994981033601986, 0.0994981033601986, 0.7015056899194042]\n",
      "\n",
      "Negativity  :0.0\n",
      "\n",
      "\n",
      "######## 4-bodies RDM ########\n",
      "\n",
      "Trace       : 1.0 + 0.0im\n",
      "\n",
      "Eigenvalues :[0.0001018795058068557, 0.00010187950580688106, 0.00010187950580688165, 0.00010187980800156194, 0.0001018798080015676, 0.00035699697400268975, 0.0003569969740027044, 0.0003569969740027685, 0.00206920310760531, 0.003410893313305416, 0.003410893313305455, 0.0034108933133054613, 0.11348891431291308, 0.11348891431291308, 0.11348891431291311, 0.6456509849583071]\n",
      "\n",
      "Negativity  :0.0\n"
     ]
    }
   ],
   "source": [
    "#### 2-bodies RDM\n",
    "xx = -0.6020075865592056\n",
    "ρ2 = (1/4.)*(TEN([I,I])+xx*TEN([X,X])+xx*TEN([Y,Y])+xx*TEN([Z,Z]))\n",
    "println(\"\")\n",
    "println(\"\")\n",
    "println(\"######## 2-bodies RDM ########\")\n",
    "println(\"\")\n",
    "println(\"Trace       : \", trace(ρ2))\n",
    "println(\"\")\n",
    "println(\"Eigenvalues :\",eigvals(ρ2))\n",
    "println(\"\")\n",
    "println(\"Negativity  :\", negativity(ρ2))\n",
    "\n",
    "#### 4-bodies RDM\n",
    "x1x2 = -0.6020075865592056\n",
    "x1x3 = 0.25426361927721614\n",
    "x1x4 = -0.23143966794223547\n",
    "xxxx = 0.5305652635758876\n",
    "xxyy = 0.4655235614464653\n",
    "xyxy = -0.1310156493944701\n",
    "xyyx = 0.1960573503151137\n",
    "\n",
    "\n",
    "X12     = x1x2*(TEN([X,X,I,I])+TEN([Y,Y,I,I])+TEN([Z,Z,I,I]) + TEN([I,X,X,I])+TEN([I,Y,Y,I])+TEN([I,Z,Z,I]) + TEN([I,I,X,X])+TEN([I,I,Y,Y])+TEN([I,I,Z,Z]))\n",
    "X13     = x1x3*(TEN([X,I,X,I])+TEN([Y,I,Y,I])+TEN([Z,I,Z,I]) + TEN([I,X,I,X])+TEN([I,Y,I,Y])+TEN([I,Z,I,Z]))\n",
    "X14     = x1x4*(TEN([X,I,I,X])+TEN([Y,I,I,Y])+TEN([Z,I,I,Z]))\n",
    "XXXX    = xxxx*(TEN([X,X,X,X])+TEN([Y,Y,Y,Y])+TEN([Z,Z,Z,Z]))\n",
    "XXYY    = xxyy*(TEN([X,X,Y,Y])+TEN([X,X,Z,Z]) + TEN([Y,Y,X,X])+TEN([Y,Y,Z,Z]) + TEN([Z,Z,X,X])+TEN([Z,Z,Y,Y]))\n",
    "XYXY    = xyxy*(TEN([X,Y,X,Y])+TEN([X,Z,X,Z]) + TEN([Y,X,Y,X])+TEN([Y,Z,Y,Z]) + TEN([Z,X,Z,X])+TEN([Z,Y,Z,Y]))\n",
    "XYYX    = xyyx*(TEN([X,Y,Y,X])+TEN([X,Z,Z,X]) + TEN([Y,X,X,Y])+TEN([Y,Z,Z,Y]) + TEN([Z,X,X,Z])+TEN([Z,Y,Y,Z]))\n",
    "\n",
    "ρ4 = (1/16.)*(TEN([I,I,I,I])+X12+X13+X14+XXXX+XXYY+XYXY+XYYX)\n",
    "println(\"\")\n",
    "println(\"\")\n",
    "println(\"######## 4-bodies RDM ########\")\n",
    "println(\"\")\n",
    "println(\"Trace       : \", trace(ρ4))\n",
    "println(\"\")\n",
    "println(\"Eigenvalues :\",eigvals(ρ4))\n",
    "println(\"\")\n",
    "println(\"Negativity  :\", negativity(ρ4))\n",
    "\n"
   ]
  },
  {
   "cell_type": "code",
   "execution_count": 149,
   "metadata": {},
   "outputs": [
    {
     "data": {
      "text/plain": [
       "permutationes (generic function with 1 method)"
      ]
     },
     "execution_count": 149,
     "metadata": {},
     "output_type": "execute_result"
    }
   ],
   "source": [
    "function permutationes(vec)\n",
    "    elements = [\"x\",\"y\",\"z\"];\n",
    "    elements2 = [\"X\",\"Y\",\"Z\"];\n",
    "    permu = [];\n",
    "    vecbackup = deepcopy(vec);\n",
    "    for i=1:3\n",
    "        for j=1:3\n",
    "            if j!=i \n",
    "                vec = replace(vec, elements[1]=>elements2[i])\n",
    "                vec = replace(vec,elements[2]=>elements2[j])\n",
    "                vec = replace(vec,elements[3]=>elements2[3-mod(i+j,3)])\n",
    "                push!(permu, vec)\n",
    "                vec = deepcopy(vecbackup)\n",
    "            end\n",
    "        end\n",
    "    end\n",
    "    \n",
    "    permu = unique!(permu);\n",
    "    println(permu)\n",
    "    return permu\n",
    "end"
   ]
  },
  {
   "cell_type": "code",
   "execution_count": 150,
   "metadata": {},
   "outputs": [
    {
     "name": "stdout",
     "output_type": "stream",
     "text": [
      "Any[\"XXii\", \"YYii\", \"ZZii\"]\n"
     ]
    },
    {
     "data": {
      "text/plain": [
       "3-element Array{Any,1}:\n",
       " \"XXii\"\n",
       " \"YYii\"\n",
       " \"ZZii\""
      ]
     },
     "execution_count": 150,
     "metadata": {},
     "output_type": "execute_result"
    }
   ],
   "source": [
    "permutationes(\"xxii\")"
   ]
  },
  {
   "cell_type": "code",
   "execution_count": 49,
   "metadata": {},
   "outputs": [
    {
     "name": "stdout",
     "output_type": "stream",
     "text": [
      "y\n"
     ]
    }
   ],
   "source": [
    "el = [\"x\", \"y\"]\n",
    "\n",
    "replace(\"xx\", el[1] =>\"a\")\n",
    "\n",
    "s = \"xy\"\n",
    "for i in s[2:end]\n",
    "        println(i)\n",
    "end"
   ]
  },
  {
   "cell_type": "code",
   "execution_count": 151,
   "metadata": {},
   "outputs": [
    {
     "data": {
      "text/plain": [
       "strtovec (generic function with 1 method)"
      ]
     },
     "execution_count": 151,
     "metadata": {},
     "output_type": "execute_result"
    }
   ],
   "source": [
    "Pauli = Dict('I'=>[1 0; 0 1], 'X'=>[0 1; 1 0], 'Y'=>[0 -im; im 0], 'Z'=>[1 0; 0 -1])\n",
    "function strtovec(perm)\n",
    "    #Pauli = Dict(\"I\"=>[1 0; 0 1], \"X\"=>[0 1; 1 0], \"Y\"=>[0 -im; im 0], \"Z\"=>[1 0; 0 -1])\n",
    "    operator = zeros(Float64, 2^length(perm[1]),2^length(perm[1]))\n",
    "    for s in perm\n",
    "        O = get(Pauli,s[1], NaN)\n",
    "        for x in s[2:end]\n",
    "            O = kron(O,get(Pauli,x,NaN))\n",
    "        end\n",
    "        operator += O\n",
    "    end\n",
    "\n",
    "    return operator\n",
    "end"
   ]
  },
  {
   "cell_type": "code",
   "execution_count": 153,
   "metadata": {},
   "outputs": [
    {
     "name": "stdout",
     "output_type": "stream",
     "text": [
      "Any[\"XXYY\", \"XXZZ\", \"YYXX\", \"YYZZ\", \"ZZXX\", \"ZZYY\"]\n"
     ]
    }
   ],
   "source": [
    "strtovec(permutationes(\"xxyy\"));"
   ]
  },
  {
   "cell_type": "code",
   "execution_count": 78,
   "metadata": {},
   "outputs": [
    {
     "ename": "TypeError",
     "evalue": "TypeError: in typeassert, expected Type, got Int64",
     "output_type": "error",
     "traceback": [
      "TypeError: in typeassert, expected Type, got Int64",
      "",
      "Stacktrace:",
      " [1] strtovec(::String) at ./In[75]:7",
      " [2] top-level scope at In[78]:1"
     ]
    }
   ],
   "source": []
  },
  {
   "cell_type": "code",
   "execution_count": 112,
   "metadata": {},
   "outputs": [
    {
     "data": {
      "text/plain": [
       "2×2 Array{Float64,2}:\n",
       " 0.0  1.0\n",
       " 1.0  0.0"
      ]
     },
     "execution_count": 112,
     "metadata": {},
     "output_type": "execute_result"
    }
   ],
   "source": [
    "oper =  zeros(Float64, 2,2);\n",
    "s = 'X'\n",
    "oper += get(Pauli, s, NaN)"
   ]
  },
  {
   "cell_type": "code",
   "execution_count": 138,
   "metadata": {},
   "outputs": [
    {
     "name": "stdout",
     "output_type": "stream",
     "text": [
      "[0 1; 1 0]\n",
      "[0 1; 1 0]\n",
      "[0 1; 1 0]\n",
      "[0 1; 1 0]\n",
      "Complex{Int64}[0 + 0im 0 - 1im; 0 + 1im 0 + 0im]\n",
      "Complex{Int64}[0 + 0im 0 - 1im; 0 + 1im 0 + 0im]\n",
      "Complex{Int64}[0 + 0im 0 - 1im; 0 + 1im 0 + 0im]\n",
      "Complex{Int64}[0 + 0im 0 - 1im; 0 + 1im 0 + 0im]\n",
      "[1 0; 0 -1]\n",
      "[1 0; 0 -1]\n",
      "[1 0; 0 -1]\n",
      "[1 0; 0 -1]\n"
     ]
    }
   ],
   "source": [
    "cc = permutationes(\"xxxx\")\n",
    "for s in cc\n",
    "    O = get(Pauli,s[1], NaN)\n",
    "    println(O)\n",
    "    for x in s[2:end]\n",
    "        println(get(Pauli,x,NaN))\n",
    "    end\n",
    "end"
   ]
  },
  {
   "cell_type": "code",
   "execution_count": 155,
   "metadata": {},
   "outputs": [
    {
     "data": {
      "text/plain": [
       "term (generic function with 1 method)"
      ]
     },
     "execution_count": 155,
     "metadata": {},
     "output_type": "execute_result"
    }
   ],
   "source": [
    "function permutationes(vec)\n",
    "    elements = [\"x\",\"y\",\"z\"];\n",
    "    elements2 = [\"X\",\"Y\",\"Z\"];\n",
    "    permu = [];\n",
    "    vecbackup = deepcopy(vec);\n",
    "    for i=1:3\n",
    "        for j=1:3\n",
    "            if j!=i \n",
    "                vec = replace(vec, elements[1]=>elements2[i])\n",
    "                vec = replace(vec,elements[2]=>elements2[j])\n",
    "                vec = replace(vec,elements[3]=>elements2[3-mod(i+j,3)])\n",
    "                push!(permu, vec)\n",
    "                vec = deepcopy(vecbackup)\n",
    "            end\n",
    "        end\n",
    "    end\n",
    "    \n",
    "    permu = unique!(permu);\n",
    "    println(permu)\n",
    "    return permu\n",
    "end\n",
    "\n",
    "Pauli = Dict('I'=>[1 0; 0 1], 'X'=>[0 1; 1 0], 'Y'=>[0 -im; im 0], 'Z'=>[1 0; 0 -1])\n",
    "\n",
    "function strtovec(perm)\n",
    "    #Pauli = Dict(\"I\"=>[1 0; 0 1], \"X\"=>[0 1; 1 0], \"Y\"=>[0 -im; im 0], \"Z\"=>[1 0; 0 -1])\n",
    "    operator = zeros(Float64, 2^length(perm[1]),2^length(perm[1]))\n",
    "    for s in perm\n",
    "        O = get(Pauli,s[1], NaN)\n",
    "        for x in s[2:end]\n",
    "            O = kron(O,get(Pauli,x,NaN))\n",
    "        end\n",
    "        operator += O\n",
    "    end\n",
    "\n",
    "    return operator\n",
    "end\n",
    "\n",
    "function term(t)\n",
    "   return strtovec(permutationes(t))\n",
    "end"
   ]
  },
  {
   "cell_type": "code",
   "execution_count": 160,
   "metadata": {},
   "outputs": [
    {
     "name": "stdout",
     "output_type": "stream",
     "text": [
      "Any[\"XX\", \"YY\", \"ZZ\"]\n",
      "\n",
      "\n",
      "######## 2-bodies RDM ########\n",
      "\n",
      "Trace       : 1.0 - 0.0im\n",
      "\n",
      "Eigenvalues :[0.0994981033601986, 0.0994981033601986, 0.0994981033601986, 0.7015056899194042]\n",
      "\n",
      "Negativity  :0.0\n",
      "Any[\"XXII\", \"YYII\", \"ZZII\"]\n",
      "Any[\"IXXI\", \"IYYI\", \"IZZI\"]\n",
      "Any[\"IIXX\", \"IIYY\", \"IIZZ\"]\n",
      "Any[\"XIXI\", \"YIYI\", \"ZIZI\"]\n",
      "Any[\"IXIX\", \"IYIY\", \"IZIZ\"]\n",
      "Any[\"XIIX\", \"YIIY\", \"ZIIZ\"]\n",
      "Any[\"XXXX\", \"YYYY\", \"ZZZZ\"]\n",
      "Any[\"XXYY\", \"XXZZ\", \"YYXX\", \"YYZZ\", \"ZZXX\", \"ZZYY\"]\n",
      "Any[\"XYXY\", \"XZXZ\", \"YXYX\", \"YZYZ\", \"ZXZX\", \"ZYZY\"]\n",
      "Any[\"XYYX\", \"XZZX\", \"YXXY\", \"YZZY\", \"ZXXZ\", \"ZYYZ\"]\n",
      "\n",
      "\n",
      "######## 4-bodies RDM ########\n",
      "\n",
      "Trace       : 1.0 + 0.0im\n",
      "\n",
      "Eigenvalues :[0.0001018795058068557, 0.00010187950580688106, 0.00010187950580688165, 0.00010187980800156194, 0.0001018798080015676, 0.00035699697400268975, 0.0003569969740027044, 0.0003569969740027685, 0.00206920310760531, 0.003410893313305416, 0.003410893313305455, 0.0034108933133054613, 0.11348891431291308, 0.11348891431291308, 0.11348891431291311, 0.6456509849583071]\n",
      "\n",
      "Negativity  :0.0\n"
     ]
    }
   ],
   "source": [
    "#### 2-bodies RDM\n",
    "xx = -0.6020075865592056\n",
    "ρ2 = (1/4.)*(TEN([I,I])+xx*term(\"xx\"))\n",
    "println(\"\")\n",
    "println(\"\")\n",
    "println(\"######## 2-bodies RDM ########\")\n",
    "println(\"\")\n",
    "println(\"Trace       : \", trace(ρ2))\n",
    "println(\"\")\n",
    "println(\"Eigenvalues :\",eigvals(ρ2))\n",
    "println(\"\")\n",
    "println(\"Negativity  :\", negativity(ρ2))\n",
    "\n",
    "#### 4-bodies RDM\n",
    "x1x2 = -0.6020075865592056\n",
    "x1x3 = 0.25426361927721614\n",
    "x1x4 = -0.23143966794223547\n",
    "xxxx = 0.5305652635758876\n",
    "xxyy = 0.4655235614464653\n",
    "xyxy = -0.1310156493944701\n",
    "xyyx = 0.1960573503151137\n",
    "\n",
    "\n",
    "X12     = x1x2*(term(\"xxII\")+term(\"IxxI\")+term(\"IIxx\"))\n",
    "X13     = x1x3*(term(\"xIxI\")+term(\"IxIx\"))\n",
    "X14     = x1x4*term(\"xIIx\")\n",
    "XXXX    = xxxx*term(\"xxxx\")\n",
    "XXYY    = xxyy*term(\"xxyy\")\n",
    "XYXY    = xyxy*term(\"xyxy\")\n",
    "XYYX    = xyyx*term(\"xyyx\")\n",
    "\n",
    "ρ4 = (1/16.)*(TEN([I,I,I,I])+X12+X13+X14+XXXX+XXYY+XYXY+XYYX)\n",
    "println(\"\")\n",
    "println(\"\")\n",
    "println(\"######## 4-bodies RDM ########\")\n",
    "println(\"\")\n",
    "println(\"Trace       : \", trace(ρ4))\n",
    "println(\"\")\n",
    "println(\"Eigenvalues :\",eigvals(ρ4))\n",
    "println(\"\")\n",
    "println(\"Negativity  :\", negativity(ρ4))"
   ]
  },
  {
   "cell_type": "code",
   "execution_count": null,
   "metadata": {},
   "outputs": [],
   "source": []
  }
 ],
 "metadata": {
  "kernelspec": {
   "display_name": "Julia 1.4.1",
   "language": "julia",
   "name": "julia-1.4"
  },
  "language_info": {
   "file_extension": ".jl",
   "mimetype": "application/julia",
   "name": "julia",
   "version": "1.4.1"
  }
 },
 "nbformat": 4,
 "nbformat_minor": 4
}
